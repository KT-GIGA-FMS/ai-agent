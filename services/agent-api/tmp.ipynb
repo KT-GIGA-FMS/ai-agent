{
 "cells": [
  {
   "cell_type": "code",
   "execution_count": 2,
   "id": "57e1b813",
   "metadata": {},
   "outputs": [
    {
     "name": "stdout",
     "output_type": "stream",
     "text": [
      "==================================\u001b[1m Ai Message \u001b[0m==================================\n",
      "\n",
      "Hello there! How can I help you today?\n"
     ]
    }
   ],
   "source": [
    "import os\n",
    "from dotenv import load_dotenv\n",
    "from langchain_openai import AzureChatOpenAI\n",
    "\n",
    "load_dotenv('.env.local')\n",
    "endpoint = \"https://kt-project-openai.openai.azure.com/\"\n",
    "deployment = \"o4-mini\"\n",
    "api_version = \"2024-12-01-preview\"\n",
    "\n",
    "llm = AzureChatOpenAI(\n",
    "    azure_deployment=deployment,\n",
    "    api_version=api_version,\n",
    ")\n",
    "\n",
    "llm.invoke(\"Hello, world!\").pretty_print()"
   ]
  },
  {
   "cell_type": "code",
   "execution_count": null,
   "id": "c1b48ecb",
   "metadata": {},
   "outputs": [],
   "source": []
  }
 ],
 "metadata": {
  "kernelspec": {
   "display_name": "AI Agent (.venv)",
   "language": "python",
   "name": "ai-agent-env"
  },
  "language_info": {
   "codemirror_mode": {
    "name": "ipython",
    "version": 3
   },
   "file_extension": ".py",
   "mimetype": "text/x-python",
   "name": "python",
   "nbconvert_exporter": "python",
   "pygments_lexer": "ipython3",
   "version": "3.11.5"
  }
 },
 "nbformat": 4,
 "nbformat_minor": 5
}
